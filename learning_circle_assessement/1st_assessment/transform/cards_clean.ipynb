{
 "cells": [
  {
   "cell_type": "code",
   "execution_count": 13,
   "metadata": {},
   "outputs": [],
   "source": [
    "import os\n",
    "import uuid\n",
    "import pandas as pd"
   ]
  },
  {
   "cell_type": "code",
   "execution_count": 14,
   "metadata": {},
   "outputs": [],
   "source": [
    "cards_path = '/home/hendrixxdiddy/DEV/ALT_School_Data_Engineering/learning_circle_assessement/1st_assessment/transform/cards.csv'\n",
    "users_path = '/home/hendrixxdiddy/DEV/ALT_School_Data_Engineering/learning_circle_assessement/1st_assessment/transform/users.csv'"
   ]
  },
  {
   "cell_type": "code",
   "execution_count": 11,
   "metadata": {},
   "outputs": [],
   "source": [
    "def wrangle(cards_path):\n",
    "    \"\"\"\n",
    "    wrangles cards.csv for presentable presentation\n",
    "    \"\"\"\n",
    "    df = pd.read_csv(cards_path)\n",
    "    \n",
    "    # Display the first few rows of the DataFrame\n",
    "    # print(df.head())\n",
    "\n",
    "    # Get a summary of the DataFrame\n",
    "    # print(df.info())\n",
    "    \n",
    "    # get missing values\n",
    "    # print(df.isnull().sum())\n",
    "    \n",
    "    # drop rows with missing values\n",
    "    df = df.dropna()\n",
    "    \n",
    "    df = df.fillna(value=0)\n",
    "    \n",
    "    # cast float64 to int\n",
    "    df[\"user_id\"] = df[[\"user_id\"]].astype('int64')\n",
    "    \n",
    "    #convert `event_id` to uuid\n",
    "    df[\"event_id\"] = df[[\"event_id\"]].astype('str')\n",
    "    \n",
    "    # cast object to datetime object\n",
    "    datetime_cols = [\"created_at\", \"updated_at\", \"event_at\"]\n",
    "    df[datetime_cols] = df[datetime_cols].apply(pd.to_datetime)\n",
    "    \n",
    "    # Remove duplicate rows\n",
    "    df = df.drop_duplicates()\n",
    "    \n",
    "    df.to_csv(\"tranform_cards.csv\")\n",
    "    \n",
    "    print(df.head(5))\n",
    "    "
   ]
  },
  {
   "cell_type": "code",
   "execution_count": 12,
   "metadata": {},
   "outputs": [
    {
     "name": "stdout",
     "output_type": "stream",
     "text": [
      "     id  user_id   created_by_name          updated_at          created_at  \\\n",
      "0  2298      790  Jonathan Johnson 2023-10-23 23:25:30 2023-10-23 23:17:04   \n",
      "1  2081      633   Kathryn Francis 2023-10-23 23:16:17 2023-10-23 23:16:17   \n",
      "2  2401      611    Kristin Haynes 2023-10-23 23:17:27 2023-10-23 23:17:27   \n",
      "3   519       44      Brianna Wong 2023-10-23 23:16:52 2023-10-23 23:10:43   \n",
      "4    48       35   Darlene Santana 2023-10-23 23:10:42 2023-10-23 23:09:01   \n",
      "\n",
      "   active  type            event_at                              event_id  \n",
      "0    True  card 2023-10-23 23:25:30  3fd0395e-f47f-4313-9eb0-8519b1062d7b  \n",
      "1   False  card 2023-10-23 23:16:17  7330b250-df72-4f40-9f53-439d70a4863f  \n",
      "2    True  card 2023-10-23 23:17:27  9de02005-665a-4fa4-a8f6-7da3793ccf85  \n",
      "3    True  card 2023-10-23 23:16:52  9de4fe94-192f-4998-9831-37522dd0ed17  \n",
      "4    True  card 2023-10-23 23:10:42  f7ef95f6-f013-435f-99a2-c02b742af174  \n"
     ]
    }
   ],
   "source": [
    "wrangle(cards_path)"
   ]
  },
  {
   "cell_type": "code",
   "execution_count": null,
   "metadata": {},
   "outputs": [],
   "source": []
  }
 ],
 "metadata": {
  "kernelspec": {
   "display_name": "Python 3",
   "language": "python",
   "name": "python3"
  },
  "language_info": {
   "codemirror_mode": {
    "name": "ipython",
    "version": 3
   },
   "file_extension": ".py",
   "mimetype": "text/x-python",
   "name": "python",
   "nbconvert_exporter": "python",
   "pygments_lexer": "ipython3",
   "version": "3.10.12"
  }
 },
 "nbformat": 4,
 "nbformat_minor": 2
}
